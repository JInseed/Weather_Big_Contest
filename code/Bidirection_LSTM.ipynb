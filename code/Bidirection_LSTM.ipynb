{
 "cells": [
  {
   "cell_type": "code",
   "execution_count": null,
   "id": "gTnyJFu6O1vO",
   "metadata": {
    "colab": {
     "base_uri": "https://localhost:8080/"
    },
    "executionInfo": {
     "elapsed": 19428,
     "status": "ok",
     "timestamp": 1719485436684,
     "user": {
      "displayName": "정정룡",
      "userId": "10793138587654238590"
     },
     "user_tz": -540
    },
    "id": "gTnyJFu6O1vO",
    "outputId": "3a92f209-e3e2-4742-b2b8-f96bc46ee32a"
   },
   "outputs": [
    {
     "name": "stdout",
     "output_type": "stream",
     "text": [
      "Mounted at /content/gdrive\n"
     ]
    }
   ],
   "source": [
    "from google.colab import drive\n",
    "drive.mount('/content/gdrive')"
   ]
  },
  {
   "cell_type": "code",
   "execution_count": null,
   "id": "10kpbSuASvg_",
   "metadata": {
    "id": "10kpbSuASvg_"
   },
   "outputs": [],
   "source": [
    "import os\n",
    "path = '/content/gdrive/MyDrive/날씨빅콘'\n",
    "os.chdir(path)"
   ]
  },
  {
   "cell_type": "code",
   "execution_count": null,
   "id": "bea27e0f",
   "metadata": {
    "id": "bea27e0f"
   },
   "outputs": [],
   "source": [
    "import numpy as np\n",
    "import pandas as pd\n",
    "import logging\n",
    "from sklearn.preprocessing import StandardScaler, PowerTransformer\n",
    "from sklearn.metrics import mean_squared_error\n",
    "import tensorflow as tf\n",
    "from tensorflow.keras.models import Sequential\n",
    "from tensorflow.keras.layers import LSTM, Dropout, Dense, GRU, Bidirectional\n",
    "from tensorflow.keras.callbacks import EarlyStopping"
   ]
  },
  {
   "cell_type": "code",
   "execution_count": null,
   "id": "c7967040",
   "metadata": {
    "id": "c7967040"
   },
   "outputs": [],
   "source": [
    "train = pd.read_csv('./검증용/data/train_pre.csv')\n",
    "test = pd.read_csv('./검증용/data/test_pre.csv')"
   ]
  },
  {
   "cell_type": "code",
   "execution_count": null,
   "id": "c97a7db1",
   "metadata": {
    "id": "c97a7db1"
   },
   "outputs": [],
   "source": [
    "train_a = train[train['fc_year'] == 2021]\n",
    "train_b = train[train['fc_year'] == 2022]\n",
    "train_c = train[train['fc_year'] == 2023]"
   ]
  },
  {
   "cell_type": "code",
   "execution_count": null,
   "id": "05cc17e8",
   "metadata": {
    "id": "05cc17e8"
   },
   "outputs": [],
   "source": [
    "class IPythonHandler(logging.Handler):\n",
    "    def emit(self, record):\n",
    "        log_entry = self.format(record)\n",
    "        print(log_entry)\n",
    "\n",
    "logger = logging.getLogger()\n",
    "logger.setLevel(logging.INFO)\n",
    "logger.handlers = []  # 기존 핸들러 제거\n",
    "handler = IPythonHandler()\n",
    "formatter = logging.Formatter('%(asctime)s - %(levelname)s - %(message)s')\n",
    "handler.setFormatter(formatter)\n",
    "logger.addHandler(handler)\n",
    "\n",
    "# 가중치 계산 함수\n",
    "def calculate_weights(dh, alpha=10, dh_max=240):\n",
    "    weights = np.exp(-alpha * dh / dh_max)\n",
    "    logging.info(f\"가중치 계산: alpha={alpha}, weights={weights[:5]}\")  # 첫 5개 가중치 출력\n",
    "    return weights\n",
    "\n",
    "# 데이터 준비 함수\n",
    "def prepare_data(train, validation1, validation2, test, selected_columns, sequence_length, alpha=10):\n",
    "    logging.info(\"데이터 준비 중...\")\n",
    "    train = train.sort_values(by=['basis_index','dh'], ascending=[True, False])\n",
    "    validation1 = validation1.sort_values(by=['basis_index','dh'], ascending=[True, False])\n",
    "    validation2 = validation2.sort_values(by=['basis_index','dh'], ascending=[True, False])\n",
    "    test_sorted = test.sort_values(by=['basis_index','dh'], ascending=[True, False])\n",
    "\n",
    "    train = train[selected_columns + ['dh', 'vv']]\n",
    "    validation1 = validation1[selected_columns + ['dh', 'vv']]\n",
    "    validation2 = validation2[selected_columns + ['dh', 'vv']]\n",
    "    test_sorted = test_sorted[selected_columns + ['dh']]\n",
    "\n",
    "    weights_train = calculate_weights(train['dh'], alpha).values  # weights를 배열로 변환\n",
    "\n",
    "    X_train = train.drop(['vv', 'dh'], axis=1).values\n",
    "    y_train = train['vv'].values\n",
    "\n",
    "    X_val1 = validation1.drop(['vv', 'dh'], axis=1).values\n",
    "    y_val1 = validation1['vv'].values\n",
    "\n",
    "    X_val2 = validation2.drop(['vv', 'dh'], axis=1).values\n",
    "    y_val2 = validation2['vv'].values\n",
    "\n",
    "    X_test = test_sorted.drop(['dh'], axis=1).values\n",
    "\n",
    "    X_train_seq, y_train_seq, weights_train_seq = create_sequences(X_train, y_train, weights_train, sequence_length)\n",
    "    X_val1_seq, y_val1_seq, _ = create_sequences(X_val1, y_val1, np.zeros_like(y_val1), sequence_length)\n",
    "    X_val2_seq, y_val2_seq, _ = create_sequences(X_val2, y_val2, np.zeros_like(y_val2), sequence_length)\n",
    "    X_test_seq, _, _ = create_sequences(X_test, np.zeros(len(X_test)), np.zeros(len(X_test)), sequence_length, is_test=True)\n",
    "\n",
    "    logging.info(\"데이터 준비 완료\")\n",
    "    return X_train_seq, y_train_seq, X_val1_seq, y_val1_seq, X_val2_seq, y_val2_seq, X_test_seq, weights_train_seq, test, sequence_length\n",
    "\n",
    "def create_sequences(X, y, weights, sequence_length, is_test=False):\n",
    "    X_seq, y_seq, weights_seq = [], [], []\n",
    "    for i in range(len(X) - sequence_length + 1):\n",
    "        X_seq.append(X[i:i+sequence_length])\n",
    "        y_seq.append(y[i+sequence_length-1])\n",
    "        weights_seq.append(weights[i+sequence_length-1])\n",
    "    return np.array(X_seq), np.array(y_seq), np.array(weights_seq)\n",
    "\n",
    "# 표준화 함수 (Yeo-Johnson 변환 후 표준화)\n",
    "def standardize_data(X_train, X_val1, X_val2, X_test):\n",
    "    logging.info(\"데이터 표준화 중...\")\n",
    "    scaler = StandardScaler()\n",
    "    transformer = PowerTransformer(method='yeo-johnson')\n",
    "\n",
    "    X_train_shape = X_train.shape\n",
    "    X_val1_shape = X_val1.shape\n",
    "    X_val2_shape = X_val2.shape\n",
    "    X_test_shape = X_test.shape\n",
    "\n",
    "    X_train = X_train.reshape(-1, X_train_shape[-1])\n",
    "    X_val1 = X_val1.reshape(-1, X_val1_shape[-1])\n",
    "    X_val2 = X_val2.reshape(-1, X_val2_shape[-1])\n",
    "    X_test = X_test.reshape(-1, X_test_shape[-1])\n",
    "\n",
    "    X_train = transformer.fit_transform(X_train)\n",
    "    X_val1 = transformer.transform(X_val1)\n",
    "    X_val2 = transformer.transform(X_val2)\n",
    "    X_test = transformer.transform(X_test)\n",
    "\n",
    "    X_train_scaled = scaler.fit_transform(X_train).reshape(X_train_shape)\n",
    "    X_val1_scaled = scaler.transform(X_val1).reshape(X_val1_shape)\n",
    "    X_val2_scaled = scaler.transform(X_val2).reshape(X_val2_shape)\n",
    "    X_test_scaled = scaler.transform(X_test).reshape(X_test_shape)\n",
    "\n",
    "    logging.info(\"데이터 표준화 완료\")\n",
    "    return X_train_scaled, X_val1_scaled, X_val2_scaled, X_test_scaled\n",
    "\n",
    "# 계급 구간 설정 및 분류 함수\n",
    "def classify_intervals(values):\n",
    "    intervals = [\n",
    "        (-np.inf, 0.1, 0),    # 0.1 미만 (무강수)\n",
    "        (0.1, 0.2, 1),  # 0.1 이상 0.2 미만\n",
    "        (0.2, 0.5, 2),  # 0.2 이상 0.5 미만\n",
    "        (0.5, 1.0, 3),  # 0.5 이상 1.0 미만\n",
    "        (1.0, 2.0, 4),  # 1.0 이상 2.0 미만\n",
    "        (2.0, 5.0, 5),  # 2.0 이상 5.0 미만\n",
    "        (5.0, 10.0, 6), # 5.0 이상 10.0 미만\n",
    "        (10.0, 20.0, 7),# 10.0 이상 20.0 미만\n",
    "        (20.0, 30.0, 8),# 20.0 이상 30.0 미만\n",
    "        (30.0, np.inf, 9)# 30.0 이상\n",
    "    ]\n",
    "\n",
    "    classified = np.full_like(values, -999, dtype=np.int32)  # 초기값은 -999로 설정하고 int32로 명시적으로 지정\n",
    "    for lower, upper, grade in intervals:\n",
    "        mask = (values >= lower) & (values < upper)\n",
    "        classified[mask] = grade\n",
    "\n",
    "    return classified\n",
    "\n",
    "# CSI 계산을 위한 텐서플로우 연산\n",
    "def calculate_csi_tf(y_true, y_pred):\n",
    "    H = tf.reduce_sum(tf.cast((y_true == y_pred) & (y_true != 0), tf.float32))\n",
    "    F = tf.reduce_sum(tf.cast((y_true != y_pred) & (y_pred != 0), tf.float32))\n",
    "    M = tf.reduce_sum(tf.cast((y_true != y_pred) & (y_pred == 0), tf.float32))\n",
    "    CSI = H / (H + F + M + 1e-7)  # 0으로 나누는 것을 방지하기 위해 작은 값을 더함\n",
    "    return CSI\n",
    "\n",
    "# 배치 단위로 CSI와 RMSE를 결합한 손실함수 계산\n",
    "@tf.function(reduce_retracing=True)\n",
    "def custom_loss(y_true, y_pred, weights, beta):\n",
    "    y_true = tf.cast(y_true, tf.float32)\n",
    "    y_pred = tf.cast(y_pred, tf.float32)\n",
    "\n",
    "    rmse = tf.sqrt(tf.reduce_mean(tf.square(y_true - y_pred)))\n",
    "\n",
    "    y_true_class = tf.py_function(func=classify_intervals, inp=[y_true], Tout=tf.int32)\n",
    "    y_pred_class = tf.py_function(func=classify_intervals, inp=[y_pred], Tout=tf.int32)\n",
    "    csi = calculate_csi_tf(y_true_class, y_pred_class)\n",
    "\n",
    "    combined_loss = rmse + beta * (1 - csi)\n",
    "    return combined_loss\n",
    "\n",
    "# 모델 학습 함수\n",
    "def train_model(X_train, y_train, weights_train, X_val1, y_val1, X_val2, y_val2, sequence_length, batch_size, epochs=60, beta=1.0):\n",
    "    logging.info(\"GRU 모델 학습 중...\")\n",
    "\n",
    "    model = Sequential([\n",
    "        Bidirectional(LSTM(128, return_sequences=True, dropout=0.1, input_shape=(sequence_length, X_train.shape[2]))),\n",
    "        Bidirectional(LSTM(64)),\n",
    "        Dense(1)\n",
    "    ])\n",
    "\n",
    "    optimizer = tf.keras.optimizers.Adam(learning_rate=0.0007)\n",
    "\n",
    "    # EarlyStopping 수동 구현을 위한 변수들\n",
    "    best_val_loss = np.inf\n",
    "    best_weights = None\n",
    "    patience = 25\n",
    "    wait = 0\n",
    "\n",
    "    train_dataset = tf.data.Dataset.from_tensor_slices((X_train, y_train, weights_train)).batch(batch_size)\n",
    "    val1_dataset = tf.data.Dataset.from_tensor_slices((X_val1, y_val1)).batch(batch_size)\n",
    "    val2_dataset = tf.data.Dataset.from_tensor_slices((X_val2, y_val2)).batch(batch_size)\n",
    "\n",
    "    for epoch in range(epochs):\n",
    "        logging.info(f'Epoch {epoch+1}/{epochs}')\n",
    "\n",
    "        # Training loop\n",
    "        for step, (x_batch_train, y_batch_train, w_batch_train) in enumerate(train_dataset):\n",
    "            with tf.GradientTape() as tape:\n",
    "                y_pred_train = model(x_batch_train, training=True)\n",
    "                loss_value = custom_loss(y_batch_train, y_pred_train, w_batch_train, beta)\n",
    "\n",
    "            grads = tape.gradient(loss_value, model.trainable_weights)\n",
    "            optimizer.apply_gradients(zip(grads, model.trainable_weights))\n",
    "\n",
    "        # Validation1 loop\n",
    "        val1_pred = []\n",
    "        val1_true = []\n",
    "        for x_batch_val1, y_batch_val1 in val1_dataset:\n",
    "            y_pred_val1 = model(x_batch_val1, training=False)\n",
    "            val1_pred.append(y_pred_val1)\n",
    "            val1_true.append(y_batch_val1)\n",
    "\n",
    "        val1_pred = tf.concat(val1_pred, axis=0)\n",
    "        val1_true = tf.concat(val1_true, axis=0)\n",
    "\n",
    "        val1_rmse = mean_squared_error(val1_true.numpy(), val1_pred.numpy(), squared=False)\n",
    "        val1_true_class = classify_intervals(val1_true.numpy().flatten())\n",
    "        val1_pred_class = classify_intervals(val1_pred.numpy().flatten())\n",
    "        val1_csi = calculate_csi_tf(val1_true_class, val1_pred_class).numpy()\n",
    "\n",
    "        val1_loss = val1_rmse + beta * (1 - val1_csi)\n",
    "        logging.info(f'Validation1 RMSE: {val1_rmse}, Validation1 CSI: {val1_csi}, Validation1 Loss: {val1_loss}')\n",
    "\n",
    "        # Validation2 loop\n",
    "        val2_pred = []\n",
    "        val2_true = []\n",
    "        for x_batch_val2, y_batch_val2 in val2_dataset:\n",
    "            y_pred_val2 = model(x_batch_val2, training=False)\n",
    "            val2_pred.append(y_pred_val2)\n",
    "            val2_true.append(y_batch_val2)\n",
    "\n",
    "        val2_pred = tf.concat(val2_pred, axis=0)\n",
    "        val2_true = tf.concat(val2_true, axis=0)\n",
    "\n",
    "        val2_rmse = mean_squared_error(val2_true.numpy(), val2_pred.numpy(), squared=False)\n",
    "        val2_true_class = classify_intervals(val2_true.numpy().flatten())\n",
    "        val2_pred_class = classify_intervals(val2_pred.numpy().flatten())\n",
    "        val2_csi = calculate_csi_tf(val2_true_class, val2_pred_class).numpy()\n",
    "\n",
    "        val2_loss = val2_rmse + beta * (1 - val2_csi)\n",
    "        logging.info(f'Validation2 RMSE: {val2_rmse}, Validation2 CSI: {val2_csi}, Validation2 Loss: {val2_loss}')\n",
    "\n",
    "        avg_val_rmse = (val1_rmse + val2_rmse) / 2\n",
    "        avg_val_csi = (val1_csi + val2_csi) / 2\n",
    "        avg_val_loss = (val1_loss + val2_loss) / 2\n",
    "\n",
    "        logging.info(f'Average RMSE: {avg_val_rmse}, Average CSI: {avg_val_csi}, Average Loss: {avg_val_loss}')\n",
    "\n",
    "        # Early stopping 체크\n",
    "        if avg_val_loss < best_val_loss:\n",
    "            best_val_loss = avg_val_loss\n",
    "            best_weights = model.get_weights()\n",
    "            wait = 0\n",
    "        else:\n",
    "            wait += 1\n",
    "            if wait >= patience:\n",
    "                logging.info(f'Early stopping at epoch {epoch+1}')\n",
    "                model.set_weights(best_weights)\n",
    "                break\n",
    "\n",
    "    model.set_weights(best_weights)\n",
    "    logging.info(\"GRU 모델 학습 완료\")\n",
    "    return model\n",
    "\n",
    "# 성능 평가 함수\n",
    "def evaluate_model(model, X_val1, y_val1, X_val2, y_val2, beta=1.0):\n",
    "    logging.info(\"모델 성능 평가 중...\")\n",
    "\n",
    "    # Validation1\n",
    "    y_val1_pred = model.predict(X_val1)\n",
    "    val1_rmse = mean_squared_error(y_val1, y_val1_pred, squared=False)\n",
    "    y_val1_class = classify_intervals(y_val1.flatten())\n",
    "    y_val1_pred_class = classify_intervals(y_val1_pred.flatten())\n",
    "    val1_csi = calculate_csi_tf(y_val1_class, y_val1_pred_class).numpy()\n",
    "    val1_loss = val1_rmse + beta * (1 - val1_csi)\n",
    "\n",
    "    # Validation2\n",
    "    y_val2_pred = model.predict(X_val2)\n",
    "    val2_rmse = mean_squared_error(y_val2, y_val2_pred, squared=False)\n",
    "    y_val2_class = classify_intervals(y_val2.flatten())\n",
    "    y_val2_pred_class = classify_intervals(y_val2_pred.flatten())\n",
    "    val2_csi = calculate_csi_tf(y_val2_class, y_val2_pred_class).numpy()\n",
    "    val2_loss = val2_rmse + beta * (1 - val2_csi)\n",
    "\n",
    "    # 평균 성능 평가\n",
    "    avg_rmse = (val1_rmse + val2_rmse) / 2\n",
    "    avg_csi = (val1_csi + val2_csi) / 2\n",
    "    avg_loss = (val1_loss + val2_loss) / 2\n",
    "\n",
    "    results = {\n",
    "        'model': model,\n",
    "        'avg_rmse': avg_rmse,\n",
    "        'avg_csi': avg_csi,\n",
    "        'avg_loss': avg_loss\n",
    "    }\n",
    "\n",
    "    logging.info(f'Validation1 RMSE: {val1_rmse}, Validation1 CSI: {val1_csi}, Validation1 Loss: {val1_loss}')\n",
    "    logging.info(f'Validation2 RMSE: {val2_rmse}, Validation2 CSI: {val2_csi}, Validation2 Loss: {val2_loss}')\n",
    "    logging.info(f'Average RMSE: {avg_rmse}, Average CSI: {avg_csi}, Average Loss: {avg_loss}')\n",
    "    logging.info(\"모델 성능 평가 완료\")\n",
    "    return results\n",
    "\n",
    "# 테스트 셋 예측 함수\n",
    "def predict_test_set(model, X_test, test, sequence_length):\n",
    "    logging.info(\"테스트 셋 예측 중...\")\n",
    "    test_sorted = test.sort_values(by=['basis_index','dh_rank'], ascending=[True, False])\n",
    "    test_sorted['BiLSTM_pred'] = 0  # 초기화\n",
    "\n",
    "    predictions = model.predict(X_test)\n",
    "    test_sorted.iloc[sequence_length-1:, test_sorted.columns.get_loc('BiLSTM_pred')] = predictions  # 시퀀스 길이만큼 예측 불가능한 부분을 0으로\n",
    "\n",
    "    test_with_predictions = test_sorted.sort_index()  # 원래의 순서로 복원\n",
    "    logging.info(\"테스트 셋 예측 완료\")\n",
    "    return test_with_predictions\n",
    "\n",
    "# 전체 파이프라인 함수\n",
    "def run_pipeline(train, validation1, validation2, test, selected_columns, sequence_length=50, batch_size=64, alpha=4, beta=20):\n",
    "    # 데이터 준비\n",
    "    X_train_seq, y_train_seq, X_val1_seq, y_val1_seq, X_val2_seq, y_val2_seq, X_test_seq, weights_train_seq, test_original, sequence_length = prepare_data(train, validation1, validation2, test, selected_columns, sequence_length, alpha)\n",
    "\n",
    "    # 데이터 표준화\n",
    "    X_train_scaled, X_val1_scaled, X_val2_scaled, X_test_scaled = standardize_data(X_train_seq, X_val1_seq, X_val2_seq, X_test_seq)\n",
    "\n",
    "    # 모델 학습\n",
    "    model = train_model(X_train_scaled, y_train_seq, weights_train_seq, X_val1_scaled, y_val1_seq, X_val2_scaled, y_val2_seq, sequence_length, batch_size, beta=beta)\n",
    "\n",
    "    # 성능 평가\n",
    "    result = evaluate_model(model, X_val1_scaled, y_val1_seq, X_val2_scaled, y_val2_seq, beta)\n",
    "\n",
    "    # 테스트 셋 예측\n",
    "    test_with_predictions = predict_test_set(model, X_test_scaled, test_original, sequence_length)\n",
    "\n",
    "    return result, test_with_predictions"
   ]
  },
  {
   "cell_type": "code",
   "execution_count": null,
   "id": "NQZhYgwPiOoz",
   "metadata": {
    "colab": {
     "base_uri": "https://localhost:8080/"
    },
    "executionInfo": {
     "elapsed": 31807780,
     "status": "ok",
     "timestamp": 1719517442489,
     "user": {
      "displayName": "정정룡",
      "userId": "10793138587654238590"
     },
     "user_tz": -540
    },
    "id": "NQZhYgwPiOoz",
    "outputId": "7b1f24c2-9d30-4a9e-c71c-a0adc8777f1b"
   },
   "outputs": [
    {
     "name": "stdout",
     "output_type": "stream",
     "text": [
      "2024-06-27 10:53:54,811 - INFO - 데이터 준비 중...\n",
      "2024-06-27 10:53:55,707 - INFO - 가중치 계산: alpha=4, weights=964109     0.951229\n",
      "988534     0.951229\n",
      "1012916    0.951229\n",
      "1037254    0.951229\n",
      "1061447    0.951229\n",
      "Name: dh, dtype: float64\n",
      "2024-06-27 10:54:01,631 - INFO - 데이터 준비 완료\n",
      "2024-06-27 10:54:01,634 - INFO - 데이터 표준화 중...\n",
      "2024-06-27 11:00:46,004 - INFO - 데이터 표준화 완료\n",
      "2024-06-27 11:00:46,030 - INFO - GRU 모델 학습 중...\n",
      "2024-06-27 11:01:03,910 - INFO - Epoch 1/60\n",
      "2024-06-27 11:01:10,284 - WARNING - 5 out of the last 5 calls to <function _BaseOptimizer._update_step_xla at 0x7e25d4a3f640> triggered tf.function retracing. Tracing is expensive and the excessive number of tracings could be due to (1) creating @tf.function repeatedly in a loop, (2) passing tensors with different shapes, (3) passing Python objects instead of tensors. For (1), please define your @tf.function outside of the loop. For (2), @tf.function has reduce_retracing=True option that can avoid unnecessary retracing. For (3), please refer to https://www.tensorflow.org/guide/function#controlling_retracing and https://www.tensorflow.org/api_docs/python/tf/function for  more details.\n",
      "2024-06-27 11:01:10,372 - WARNING - 6 out of the last 6 calls to <function _BaseOptimizer._update_step_xla at 0x7e25d4a3f640> triggered tf.function retracing. Tracing is expensive and the excessive number of tracings could be due to (1) creating @tf.function repeatedly in a loop, (2) passing tensors with different shapes, (3) passing Python objects instead of tensors. For (1), please define your @tf.function outside of the loop. For (2), @tf.function has reduce_retracing=True option that can avoid unnecessary retracing. For (3), please refer to https://www.tensorflow.org/guide/function#controlling_retracing and https://www.tensorflow.org/api_docs/python/tf/function for  more details.\n",
      "2024-06-27 11:13:38,004 - INFO - Validation1 RMSE: 5.235512362781577, Validation1 CSI: 0.031512171030044556, Validation1 Loss: 43.975025521579795\n",
      "2024-06-27 11:16:49,650 - INFO - Validation2 RMSE: 3.7603688866572718, Validation2 CSI: 0.02356993965804577, Validation2 Loss: 42.817571300335445\n",
      "2024-06-27 11:16:49,650 - INFO - Average RMSE: 4.4979406247194245, Average CSI: 0.027541056275367737, Average Loss: 43.39629841095762\n",
      "2024-06-27 11:16:49,655 - INFO - Epoch 2/60\n",
      "2024-06-27 11:29:25,535 - INFO - Validation1 RMSE: 5.059065754599962, Validation1 CSI: 0.0525444932281971, Validation1 Loss: 42.95728602547208\n",
      "2024-06-27 11:32:37,166 - INFO - Validation2 RMSE: 3.62728844358883, Validation2 CSI: 0.044173043221235275, Validation2 Loss: 41.86036671473942\n",
      "2024-06-27 11:32:37,166 - INFO - Average RMSE: 4.3431770990943965, Average CSI: 0.048358768224716187, Average Loss: 42.40882637010575\n",
      "2024-06-27 11:32:37,171 - INFO - Epoch 3/60\n",
      "2024-06-27 11:45:11,443 - INFO - Validation1 RMSE: 5.2219035541616545, Validation1 CSI: 0.031256914138793945, Validation1 Loss: 43.9716269886099\n",
      "2024-06-27 11:48:20,921 - INFO - Validation2 RMSE: 3.7540473522023996, Validation2 CSI: 0.028912300243973732, Validation2 Loss: 42.59755534244345\n",
      "2024-06-27 11:48:20,921 - INFO - Average RMSE: 4.4879754531820275, Average CSI: 0.030084606260061264, Average Loss: 43.28459116552668\n",
      "2024-06-27 11:48:20,921 - INFO - Epoch 4/60\n",
      "2024-06-27 12:00:55,645 - INFO - Validation1 RMSE: 5.017678362520405, Validation1 CSI: 0.06258832663297653, Validation1 Loss: 42.514145297201345\n",
      "2024-06-27 12:04:05,164 - INFO - Validation2 RMSE: 3.5956143454687224, Validation2 CSI: 0.05282913148403168, Validation2 Loss: 41.48244908610746\n",
      "2024-06-27 12:04:05,165 - INFO - Average RMSE: 4.306646353994564, Average CSI: 0.057708729058504105, Average Loss: 41.9982971916544\n",
      "2024-06-27 12:04:05,170 - INFO - Epoch 5/60\n",
      "2024-06-27 12:16:40,526 - INFO - Validation1 RMSE: 4.8983840703881905, Validation1 CSI: 0.07088690251111984, Validation1 Loss: 42.062907969943396\n",
      "2024-06-27 12:19:50,021 - INFO - Validation2 RMSE: 3.4875786277434746, Validation2 CSI: 0.058887965977191925, Validation2 Loss: 41.1320599886558\n",
      "2024-06-27 12:19:50,021 - INFO - Average RMSE: 4.192981349065833, Average CSI: 0.06488743424415588, Average Loss: 41.5974839792996\n",
      "2024-06-27 12:19:50,026 - INFO - Epoch 6/60\n",
      "2024-06-27 12:32:25,180 - INFO - Validation1 RMSE: 4.865731168216577, Validation1 CSI: 0.08055808395147324, Validation1 Loss: 41.64340781015765\n",
      "2024-06-27 12:35:34,780 - INFO - Validation2 RMSE: 3.5317439325582596, Validation2 CSI: 0.07020372897386551, Validation2 Loss: 40.72359477360364\n",
      "2024-06-27 12:35:34,781 - INFO - Average RMSE: 4.198737550387419, Average CSI: 0.07538090646266937, Average Loss: 41.183501291880646\n",
      "2024-06-27 12:35:34,786 - INFO - Epoch 7/60\n",
      "2024-06-27 12:48:11,328 - INFO - Validation1 RMSE: 4.802382366038891, Validation1 CSI: 0.08164626359939575, Validation1 Loss: 41.53653182206306\n",
      "2024-06-27 12:51:20,573 - INFO - Validation2 RMSE: 3.5149564618543723, Validation2 CSI: 0.0708816796541214, Validation2 Loss: 40.67968927568952\n",
      "2024-06-27 12:51:20,574 - INFO - Average RMSE: 4.158669413946631, Average CSI: 0.07626397162675858, Average Loss: 41.10811054887629\n",
      "2024-06-27 12:51:20,579 - INFO - Epoch 8/60\n",
      "2024-06-27 13:03:58,210 - INFO - Validation1 RMSE: 4.759995575864189, Validation1 CSI: 0.0891675353050232, Validation1 Loss: 41.19329416366326\n",
      "2024-06-27 13:07:08,067 - INFO - Validation2 RMSE: 3.4942636846570188, Validation2 CSI: 0.08070548623800278, Validation2 Loss: 40.26604423513691\n",
      "2024-06-27 13:07:08,068 - INFO - Average RMSE: 4.127129630260604, Average CSI: 0.08493651449680328, Average Loss: 40.729669199400085\n",
      "2024-06-27 13:07:08,073 - INFO - Epoch 9/60\n",
      "2024-06-27 13:19:43,713 - INFO - Validation1 RMSE: 4.820531314410252, Validation1 CSI: 0.09057077020406723, Validation1 Loss: 41.197700506247564\n",
      "2024-06-27 13:22:52,132 - INFO - Validation2 RMSE: 3.5162730843796974, Validation2 CSI: 0.07848016917705536, Validation2 Loss: 40.37706631729748\n",
      "2024-06-27 13:22:52,132 - INFO - Average RMSE: 4.168402199394975, Average CSI: 0.084525465965271, Average Loss: 40.787383411772524\n",
      "2024-06-27 13:22:52,132 - INFO - Epoch 10/60\n",
      "2024-06-27 13:35:26,565 - INFO - Validation1 RMSE: 4.762918343419606, Validation1 CSI: 0.08901982009410858, Validation1 Loss: 41.20212553965526\n",
      "2024-06-27 13:38:35,451 - INFO - Validation2 RMSE: 3.5115681294071477, Validation2 CSI: 0.07863172888755798, Validation2 Loss: 40.366298973904826\n",
      "2024-06-27 13:38:35,452 - INFO - Average RMSE: 4.137243236413377, Average CSI: 0.08382577449083328, Average Loss: 40.784212256780044\n",
      "2024-06-27 13:38:35,452 - INFO - Epoch 11/60\n",
      "2024-06-27 13:51:09,913 - INFO - Validation1 RMSE: 4.71133178458268, Validation1 CSI: 0.08757747709751129, Validation1 Loss: 41.20823270068223\n",
      "2024-06-27 13:54:19,069 - INFO - Validation2 RMSE: 3.480103504088522, Validation2 CSI: 0.07593666762113571, Validation2 Loss: 40.4426367992431\n",
      "2024-06-27 13:54:19,069 - INFO - Average RMSE: 4.095717644335601, Average CSI: 0.0817570686340332, Average Loss: 40.82543474996267\n",
      "2024-06-27 13:54:19,069 - INFO - Epoch 12/60\n",
      "2024-06-27 14:06:53,470 - INFO - Validation1 RMSE: 4.698156437802441, Validation1 CSI: 0.08327169716358185, Validation1 Loss: 41.367288551259165\n",
      "2024-06-27 14:10:01,981 - INFO - Validation2 RMSE: 3.4844851201434683, Validation2 CSI: 0.07461018115282059, Validation2 Loss: 40.500077874030644\n",
      "2024-06-27 14:10:01,981 - INFO - Average RMSE: 4.091320778972955, Average CSI: 0.07894094288349152, Average Loss: 40.93368321264491\n",
      "2024-06-27 14:10:01,981 - INFO - Epoch 13/60\n",
      "2024-06-27 14:22:36,754 - INFO - Validation1 RMSE: 4.7370799624900854, Validation1 CSI: 0.08436736464500427, Validation1 Loss: 41.362385376689915\n",
      "2024-06-27 14:25:45,135 - INFO - Validation2 RMSE: 3.4894998203840824, Validation2 CSI: 0.0727716013789177, Validation2 Loss: 40.578635765227375\n",
      "2024-06-27 14:25:45,135 - INFO - Average RMSE: 4.113289891437084, Average CSI: 0.07856948673725128, Average Loss: 40.970510570958645\n",
      "2024-06-27 14:25:45,135 - INFO - Epoch 14/60\n",
      "2024-06-27 14:38:21,014 - INFO - Validation1 RMSE: 4.753614242125117, Validation1 CSI: 0.08146770298480988, Validation1 Loss: 41.49490612273272\n",
      "2024-06-27 14:41:29,889 - INFO - Validation2 RMSE: 3.5026631492167186, Validation2 CSI: 0.07087480276823044, Validation2 Loss: 40.6676710384875\n",
      "2024-06-27 14:41:29,889 - INFO - Average RMSE: 4.128138695670918, Average CSI: 0.07617124915122986, Average Loss: 41.08128858061011\n",
      "2024-06-27 14:41:29,890 - INFO - Epoch 15/60\n",
      "2024-06-27 14:54:05,045 - INFO - Validation1 RMSE: 4.750256394146717, Validation1 CSI: 0.08021716773509979, Validation1 Loss: 41.541569684742726\n",
      "2024-06-27 14:57:13,753 - INFO - Validation2 RMSE: 3.488259609105143, Validation2 CSI: 0.07065404951572418, Validation2 Loss: 40.662097628476175\n",
      "2024-06-27 14:57:13,753 - INFO - Average RMSE: 4.11925800162593, Average CSI: 0.07543560862541199, Average Loss: 41.10183365660945\n",
      "2024-06-27 14:57:13,753 - INFO - Epoch 16/60\n",
      "2024-06-27 15:09:49,113 - INFO - Validation1 RMSE: 4.811208427978212, Validation1 CSI: 0.07678303867578506, Validation1 Loss: 41.73988688094681\n",
      "2024-06-27 15:12:58,203 - INFO - Validation2 RMSE: 3.5117155383962104, Validation2 CSI: 0.07074745744466782, Validation2 Loss: 40.6818172406095\n",
      "2024-06-27 15:12:58,203 - INFO - Average RMSE: 4.161461983187211, Average CSI: 0.07376524806022644, Average Loss: 41.21085206077815\n",
      "2024-06-27 15:12:58,203 - INFO - Epoch 17/60\n",
      "2024-06-27 15:25:33,930 - INFO - Validation1 RMSE: 4.821151660901102, Validation1 CSI: 0.07657653838396072, Validation1 Loss: 41.75809012554267\n",
      "2024-06-27 15:28:42,698 - INFO - Validation2 RMSE: 3.517457298038004, Validation2 CSI: 0.07132206112146378, Validation2 Loss: 40.66457485317945\n",
      "2024-06-27 15:28:42,698 - INFO - Average RMSE: 4.169304479469553, Average CSI: 0.07394929975271225, Average Loss: 41.21133248936106\n",
      "2024-06-27 15:28:42,698 - INFO - Epoch 18/60\n",
      "2024-06-27 15:41:18,472 - INFO - Validation1 RMSE: 4.726942176676088, Validation1 CSI: 0.07892898470163345, Validation1 Loss: 41.56978278861075\n",
      "2024-06-27 15:44:27,067 - INFO - Validation2 RMSE: 3.511774547132703, Validation2 CSI: 0.07269249856472015, Validation2 Loss: 40.6040746045439\n",
      "2024-06-27 15:44:27,068 - INFO - Average RMSE: 4.119358361904395, Average CSI: 0.0758107453584671, Average Loss: 41.086928696577324\n",
      "2024-06-27 15:44:27,068 - INFO - Epoch 19/60\n",
      "2024-06-27 15:57:02,498 - INFO - Validation1 RMSE: 4.648380843517375, Validation1 CSI: 0.08207479864358902, Validation1 Loss: 41.36538889777381\n",
      "2024-06-27 16:00:12,030 - INFO - Validation2 RMSE: 3.4973614048866812, Validation2 CSI: 0.07538451254367828, Validation2 Loss: 40.48198090313955\n",
      "2024-06-27 16:00:12,031 - INFO - Average RMSE: 4.0728711242020275, Average CSI: 0.07872965931892395, Average Loss: 40.92368490045668\n",
      "2024-06-27 16:00:12,031 - INFO - Epoch 20/60\n",
      "2024-06-27 16:12:48,163 - INFO - Validation1 RMSE: 4.752475087276399, Validation1 CSI: 0.08057904243469238, Validation1 Loss: 41.529313389888706\n",
      "2024-06-27 16:15:56,792 - INFO - Validation2 RMSE: 3.5204520152167325, Validation2 CSI: 0.07300952076911926, Validation2 Loss: 40.60007118445196\n",
      "2024-06-27 16:15:56,792 - INFO - Average RMSE: 4.136463551246566, Average CSI: 0.07679428160190582, Average Loss: 41.06469228717033\n",
      "2024-06-27 16:15:56,793 - INFO - Epoch 21/60\n",
      "2024-06-27 16:28:31,077 - INFO - Validation1 RMSE: 4.74363611635368, Validation1 CSI: 0.08216866850852966, Validation1 Loss: 41.45688937601249\n",
      "2024-06-27 16:31:40,892 - INFO - Validation2 RMSE: 3.5677257930085107, Validation2 CSI: 0.07387159764766693, Validation2 Loss: 40.612861887101836\n",
      "2024-06-27 16:31:40,893 - INFO - Average RMSE: 4.155680954681095, Average CSI: 0.0780201330780983, Average Loss: 41.03487563155716\n",
      "2024-06-27 16:31:40,893 - INFO - Epoch 22/60\n",
      "2024-06-27 16:44:16,581 - INFO - Validation1 RMSE: 4.702938833442303, Validation1 CSI: 0.08249124139547348, Validation1 Loss: 41.403289177623364\n",
      "2024-06-27 16:47:25,452 - INFO - Validation2 RMSE: 3.5858792602757044, Validation2 CSI: 0.07006241381168365, Validation2 Loss: 40.78338270780836\n",
      "2024-06-27 16:47:25,452 - INFO - Average RMSE: 4.144409046859003, Average CSI: 0.07627682387828827, Average Loss: 41.09333594271586\n",
      "2024-06-27 16:47:25,452 - INFO - Epoch 23/60\n",
      "2024-06-27 17:00:00,687 - INFO - Validation1 RMSE: 4.695415232805116, Validation1 CSI: 0.08448027074337006, Validation1 Loss: 41.316204403070316\n",
      "2024-06-27 17:03:09,783 - INFO - Validation2 RMSE: 3.5682208298691362, Validation2 CSI: 0.0746663436293602, Validation2 Loss: 40.581567084694726\n",
      "2024-06-27 17:03:09,783 - INFO - Average RMSE: 4.131818031337126, Average CSI: 0.07957330346107483, Average Loss: 40.94888574388252\n",
      "2024-06-27 17:03:09,783 - INFO - Epoch 24/60\n",
      "2024-06-27 17:15:44,203 - INFO - Validation1 RMSE: 4.678746601919176, Validation1 CSI: 0.08592388033866882, Validation1 Loss: 41.24179138837242\n",
      "2024-06-27 17:18:52,740 - INFO - Validation2 RMSE: 3.6094140612100167, Validation2 CSI: 0.07555990666151047, Validation2 Loss: 40.5870177947496\n",
      "2024-06-27 17:18:52,741 - INFO - Average RMSE: 4.144080331564597, Average CSI: 0.08074189722537994, Average Loss: 40.91440459156101\n",
      "2024-06-27 17:18:52,741 - INFO - Epoch 25/60\n",
      "2024-06-27 17:31:27,330 - INFO - Validation1 RMSE: 4.717705604981336, Validation1 CSI: 0.08229029178619385, Validation1 Loss: 41.42609393353358\n",
      "2024-06-27 17:34:36,584 - INFO - Validation2 RMSE: 3.655064078038947, Validation2 CSI: 0.0697215273976326, Validation2 Loss: 40.86620298213364\n",
      "2024-06-27 17:34:36,584 - INFO - Average RMSE: 4.186384841510142, Average CSI: 0.07600590586662292, Average Loss: 41.14614845783361\n",
      "2024-06-27 17:34:36,584 - INFO - Epoch 26/60\n",
      "2024-06-27 17:47:13,750 - INFO - Validation1 RMSE: 4.684405277656327, Validation1 CSI: 0.08023826777935028, Validation1 Loss: 41.47487456648231\n",
      "2024-06-27 17:50:22,780 - INFO - Validation2 RMSE: 3.5896130761801706, Validation2 CSI: 0.06762728095054626, Validation2 Loss: 40.88452183815832\n",
      "2024-06-27 17:50:22,781 - INFO - Average RMSE: 4.137009176918249, Average CSI: 0.07393277436494827, Average Loss: 41.17969820232032\n",
      "2024-06-27 17:50:22,781 - INFO - Epoch 27/60\n",
      "2024-06-27 18:02:59,335 - INFO - Validation1 RMSE: 4.6896392408146115, Validation1 CSI: 0.08201511949300766, Validation1 Loss: 41.40903446109431\n",
      "2024-06-27 18:06:08,943 - INFO - Validation2 RMSE: 3.611255435732349, Validation2 CSI: 0.06892349570989609, Validation2 Loss: 40.8543156073365\n",
      "2024-06-27 18:06:08,944 - INFO - Average RMSE: 4.15044733827348, Average CSI: 0.07546930760145187, Average Loss: 41.131675034215405\n",
      "2024-06-27 18:06:08,944 - INFO - Epoch 28/60\n",
      "2024-06-27 18:18:46,780 - INFO - Validation1 RMSE: 4.6907083142473285, Validation1 CSI: 0.0806063860654831, Validation1 Loss: 41.46645287162801\n",
      "2024-06-27 18:21:56,517 - INFO - Validation2 RMSE: 3.6268670367485076, Validation2 CSI: 0.06657057255506516, Validation2 Loss: 40.9640441345459\n",
      "2024-06-27 18:21:56,517 - INFO - Average RMSE: 4.158787675497918, Average CSI: 0.07358847558498383, Average Loss: 41.215248503086954\n",
      "2024-06-27 18:21:56,517 - INFO - Epoch 29/60\n",
      "2024-06-27 18:34:34,783 - INFO - Validation1 RMSE: 4.7281605328404614, Validation1 CSI: 0.08246249705553055, Validation1 Loss: 41.42966065061924\n",
      "2024-06-27 18:37:44,917 - INFO - Validation2 RMSE: 3.6972638875360206, Validation2 CSI: 0.06875176727771759, Validation2 Loss: 40.947193196427314\n",
      "2024-06-27 18:37:44,917 - INFO - Average RMSE: 4.212712210188241, Average CSI: 0.07560713589191437, Average Loss: 41.18842692352328\n",
      "2024-06-27 18:37:44,917 - INFO - Epoch 30/60\n",
      "2024-06-27 18:50:21,589 - INFO - Validation1 RMSE: 4.741828724314192, Validation1 CSI: 0.08315052092075348, Validation1 Loss: 41.41580788748405\n",
      "2024-06-27 18:53:30,631 - INFO - Validation2 RMSE: 3.6813110998204004, Validation2 CSI: 0.06951181590557098, Validation2 Loss: 40.90083846359756\n",
      "2024-06-27 18:53:30,631 - INFO - Average RMSE: 4.211569912067296, Average CSI: 0.07633116841316223, Average Loss: 41.1583231755408\n",
      "2024-06-27 18:53:30,631 - INFO - Epoch 31/60\n",
      "2024-06-27 19:06:07,711 - INFO - Validation1 RMSE: 4.734593703178683, Validation1 CSI: 0.08147693425416946, Validation1 Loss: 41.4755163330119\n",
      "2024-06-27 19:09:17,062 - INFO - Validation2 RMSE: 3.661523152518827, Validation2 CSI: 0.07131758332252502, Validation2 Loss: 40.808819819617824\n",
      "2024-06-27 19:09:17,062 - INFO - Average RMSE: 4.198058427848755, Average CSI: 0.07639725506305695, Average Loss: 41.14216807631486\n",
      "2024-06-27 19:09:17,062 - INFO - Epoch 32/60\n",
      "2024-06-27 19:21:54,443 - INFO - Validation1 RMSE: 4.746641564362121, Validation1 CSI: 0.08198408782482147, Validation1 Loss: 41.46727805136926\n",
      "2024-06-27 19:25:03,563 - INFO - Validation2 RMSE: 3.7213716120146, Validation2 CSI: 0.06928006559610367, Validation2 Loss: 40.950168988170454\n",
      "2024-06-27 19:25:03,563 - INFO - Average RMSE: 4.23400658818836, Average CSI: 0.07563208043575287, Average Loss: 41.20872351976986\n",
      "2024-06-27 19:25:03,563 - INFO - Epoch 33/60\n",
      "2024-06-27 19:37:40,561 - INFO - Validation1 RMSE: 4.748424770987363, Validation1 CSI: 0.08412908762693405, Validation1 Loss: 41.38326126591\n",
      "2024-06-27 19:40:50,562 - INFO - Validation2 RMSE: 3.6923756139683888, Validation2 CSI: 0.07037347555160522, Validation2 Loss: 40.87743659190418\n",
      "2024-06-27 19:40:50,562 - INFO - Average RMSE: 4.220400192477876, Average CSI: 0.07725128531455994, Average Loss: 41.13034892890709\n",
      "2024-06-27 19:40:50,562 - INFO - Early stopping at epoch 33\n",
      "2024-06-27 19:40:50,582 - INFO - GRU 모델 학습 완료\n",
      "2024-06-27 19:40:50,587 - INFO - 모델 성능 평가 중...\n",
      "15184/15184 [==============================] - 71s 5ms/step\n",
      "14942/14942 [==============================] - 69s 5ms/step\n",
      "2024-06-27 19:43:40,970 - INFO - Validation1 RMSE: 4.760009495963872, Validation1 CSI: 0.08917657285928726, Validation1 Loss: 41.19294658159238\n",
      "2024-06-27 19:43:40,971 - INFO - Validation2 RMSE: 3.4942640887954366, Validation2 CSI: 0.08073589205741882, Validation2 Loss: 40.26482840649869\n",
      "2024-06-27 19:43:40,971 - INFO - Average RMSE: 4.1271367923796545, Average CSI: 0.08495622873306274, Average Loss: 40.72888749404554\n",
      "2024-06-27 19:43:40,971 - INFO - 모델 성능 평가 완료\n",
      "2024-06-27 19:43:40,972 - INFO - 테스트 셋 예측 중...\n",
      "3811/3811 [==============================] - 18s 5ms/step\n",
      "2024-06-27 19:44:02,365 - INFO - 테스트 셋 예측 완료\n"
     ]
    },
    {
     "data": {
      "text/plain": [
       "{'model': <keras.src.engine.sequential.Sequential at 0x7e25d4d53c10>,\n",
       " 'avg_rmse': 4.1271367923796545,\n",
       " 'avg_csi': 0.08495622873306274,\n",
       " 'avg_loss': 40.72888749404554}"
      ]
     },
     "execution_count": 7,
     "metadata": {},
     "output_type": "execute_result"
    }
   ],
   "source": [
    "selected_col = [\n",
    "    'v01', 'v02', 'v03', 'v04', 'v05', 'v06', 'v07', 'v08', 'v09',\n",
    "    'v00_ind', 'v01_ind', 'v02_ind', 'v03_ind', 'v04_ind', 'v05_ind', 'v06_ind', 'v07_ind', 'v08_ind', 'v09_ind',\n",
    "    'v_expect'\n",
    "]\n",
    "\n",
    "# 파이프라인 실행\n",
    "results, test_pred_num = run_pipeline(train_c, train_a, train_b, test, selected_col, alpha=4, beta=40, sequence_length=50, batch_size=64)\n",
    "\n",
    "results"
   ]
  },
  {
   "cell_type": "code",
   "execution_count": null,
   "id": "3OGupGdIiMf9",
   "metadata": {
    "colab": {
     "base_uri": "https://localhost:8080/"
    },
    "executionInfo": {
     "elapsed": 13,
     "status": "ok",
     "timestamp": 1719517442490,
     "user": {
      "displayName": "정정룡",
      "userId": "10793138587654238590"
     },
     "user_tz": -540
    },
    "id": "3OGupGdIiMf9",
    "outputId": "84ed3525-2455-41f2-e9a1-2416ad8d2200"
   },
   "outputs": [
    {
     "data": {
      "text/plain": [
       "class_interval\n",
       "0    99424\n",
       "5    10450\n",
       "4     4000\n",
       "3     2943\n",
       "2     2505\n",
       "6     1571\n",
       "1     1069\n",
       "7       38\n",
       "Name: count, dtype: int64"
      ]
     },
     "execution_count": 8,
     "metadata": {},
     "output_type": "execute_result"
    }
   ],
   "source": [
    "test_pred_num['class_interval'] = classify_intervals(test_pred_num['BiLSTM_pred'].round(2))\n",
    "test_pred_num['class_interval'].value_counts()"
   ]
  },
  {
   "cell_type": "code",
   "execution_count": null,
   "id": "7876f93f",
   "metadata": {
    "id": "7876f93f"
   },
   "outputs": [],
   "source": [
    "sub =  pd.read_csv('./검증용/rainfall_test/rainfall_test.csv')"
   ]
  },
  {
   "cell_type": "code",
   "execution_count": null,
   "id": "12111c7d",
   "metadata": {
    "id": "12111c7d"
   },
   "outputs": [],
   "source": [
    "sub['rainfall_test.class_interval'] = sub['rainfall_test.class_interval'].combine_first(\n",
    "    test_pred_num['class_interval'].where(sub['rainfall_test.class_interval'].isna())\n",
    ")"
   ]
  },
  {
   "cell_type": "code",
   "execution_count": null,
   "id": "999d86e0",
   "metadata": {
    "id": "999d86e0"
   },
   "outputs": [],
   "source": [
    "sub['rainfall_test.class_interval'] = sub['rainfall_test.class_interval'].astype(int)"
   ]
  },
  {
   "cell_type": "code",
   "execution_count": null,
   "id": "wykJoyKUiKrm",
   "metadata": {
    "colab": {
     "base_uri": "https://localhost:8080/"
    },
    "executionInfo": {
     "elapsed": 8,
     "status": "ok",
     "timestamp": 1719517443052,
     "user": {
      "displayName": "정정룡",
      "userId": "10793138587654238590"
     },
     "user_tz": -540
    },
    "id": "wykJoyKUiKrm",
    "outputId": "5ad69b76-db24-4c0e-a95d-a86ca670ccd4"
   },
   "outputs": [
    {
     "data": {
      "text/plain": [
       "rainfall_test.class_interval\n",
       " 0      99294\n",
       " 5      10450\n",
       " 4       4000\n",
       " 3       2943\n",
       " 2       2505\n",
       " 6       1571\n",
       " 1       1069\n",
       "-999      130\n",
       " 7         38\n",
       "Name: count, dtype: int64"
      ]
     },
     "execution_count": 12,
     "metadata": {},
     "output_type": "execute_result"
    }
   ],
   "source": [
    "sub['rainfall_test.class_interval'].value_counts()"
   ]
  },
  {
   "cell_type": "code",
   "execution_count": null,
   "id": "4CiveRVfiIqs",
   "metadata": {
    "colab": {
     "base_uri": "https://localhost:8080/"
    },
    "executionInfo": {
     "elapsed": 7,
     "status": "ok",
     "timestamp": 1719517443052,
     "user": {
      "displayName": "정정룡",
      "userId": "10793138587654238590"
     },
     "user_tz": -540
    },
    "id": "4CiveRVfiIqs",
    "outputId": "fdf201ed-98b7-48c2-dc3c-d3e8371b5eb5"
   },
   "outputs": [
    {
     "data": {
      "text/plain": [
       "rainfall_test.class_interval\n",
       " 0      0.813885\n",
       " 5      0.085656\n",
       " 4      0.032787\n",
       " 3      0.024123\n",
       " 2      0.020533\n",
       " 6      0.012877\n",
       " 1      0.008762\n",
       "-999    0.001066\n",
       " 7      0.000311\n",
       "Name: count, dtype: float64"
      ]
     },
     "execution_count": 13,
     "metadata": {},
     "output_type": "execute_result"
    }
   ],
   "source": [
    "sub['rainfall_test.class_interval'].value_counts()/len(sub)"
   ]
  },
  {
   "cell_type": "code",
   "execution_count": null,
   "id": "1edd0ca0",
   "metadata": {
    "id": "1edd0ca0"
   },
   "outputs": [],
   "source": [
    "sub.to_csv('240210_BiLSTM.csv', index=False)"
   ]
  }
 ],
 "metadata": {
  "accelerator": "GPU",
  "colab": {
   "gpuType": "A100",
   "machine_shape": "hm",
   "provenance": []
  },
  "kernelspec": {
   "display_name": "Python 3 (ipykernel)",
   "language": "python",
   "name": "python3"
  },
  "language_info": {
   "codemirror_mode": {
    "name": "ipython",
    "version": 3
   },
   "file_extension": ".py",
   "mimetype": "text/x-python",
   "name": "python",
   "nbconvert_exporter": "python",
   "pygments_lexer": "ipython3",
   "version": "3.9.7"
  }
 },
 "nbformat": 4,
 "nbformat_minor": 5
}
