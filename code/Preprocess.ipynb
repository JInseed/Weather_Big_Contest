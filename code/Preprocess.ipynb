{
 "cells": [
  {
   "cell_type": "code",
   "execution_count": 1,
   "id": "016889cd",
   "metadata": {},
   "outputs": [],
   "source": [
    "import pandas as pd\n",
    "import numpy as np"
   ]
  },
  {
   "cell_type": "code",
   "execution_count": 2,
   "id": "ae4b30eb",
   "metadata": {},
   "outputs": [],
   "source": [
    "train = pd.read_csv('./data/rainfall_train.csv')\n",
    "test = pd.read_csv('./data/rainfall_test.csv')"
   ]
  },
  {
   "cell_type": "markdown",
   "id": "266df28c",
   "metadata": {},
   "source": [
    "## 1. Unnamed: 0 열 제거"
   ]
  },
  {
   "cell_type": "code",
   "execution_count": 3,
   "id": "6b4918bd",
   "metadata": {},
   "outputs": [],
   "source": [
    "train.drop(['Unnamed: 0'], axis = 1, inplace = True)\n",
    "test.drop(['Unnamed: 0'], axis = 1, inplace = True)"
   ]
  },
  {
   "cell_type": "markdown",
   "id": "5ca264c0",
   "metadata": {},
   "source": [
    "## 2. 열 이름에서 'rainfall_train.',  'rainfall_test.'접두사 제거"
   ]
  },
  {
   "cell_type": "code",
   "execution_count": 4,
   "id": "df42d489",
   "metadata": {},
   "outputs": [],
   "source": [
    "def remove_prefix(df, prefix):\n",
    "    df.columns = df.columns.str.replace(f'^{prefix}', '', regex=True)\n",
    "    return df\n",
    "\n",
    "# 'rainfall_train.' 접두사 제거\n",
    "train = remove_prefix(train, 'rainfall_train.')\n",
    "test = remove_prefix(test, 'rainfall_test.')"
   ]
  },
  {
   "cell_type": "markdown",
   "id": "558c7ef8",
   "metadata": {},
   "source": [
    "## 3. train 에서 실강수량 -999인 행 삭제\n",
    "\n",
    "- 8490개 행은 삭제"
   ]
  },
  {
   "cell_type": "code",
   "execution_count": 5,
   "id": "c00d95f4",
   "metadata": {},
   "outputs": [
    {
     "data": {
      "text/plain": [
       "(8490, 21)"
      ]
     },
     "execution_count": 5,
     "metadata": {},
     "output_type": "execute_result"
    }
   ],
   "source": [
    "train[train['vv'] == -999].shape"
   ]
  },
  {
   "cell_type": "code",
   "execution_count": 6,
   "id": "c2833580",
   "metadata": {},
   "outputs": [],
   "source": [
    "train.drop(train[train['vv'] == -999].index, inplace = True)"
   ]
  },
  {
   "cell_type": "markdown",
   "id": "d6593646",
   "metadata": {},
   "source": [
    "## 4. 연도 매핑 및 발표 시각, 예측 시각 datetime 형식 변환"
   ]
  },
  {
   "cell_type": "code",
   "execution_count": 7,
   "id": "784791b3",
   "metadata": {},
   "outputs": [],
   "source": [
    "# 연도 변환을 위한 매핑\n",
    "year_mapping = {'A': 2021, 'B': 2022, 'C': 2023, 'D': 2024}"
   ]
  },
  {
   "cell_type": "code",
   "execution_count": 8,
   "id": "fa6c4681",
   "metadata": {},
   "outputs": [],
   "source": [
    "# 발표 시각과 예측 시각을 datetime 형식으로 변환\n",
    "train['fc_year'] = train['fc_year'].map(year_mapping)\n",
    "train['ef_year'] = train['ef_year'].map(year_mapping)\n",
    "\n",
    "train['forecast_time'] = pd.to_datetime(train[['fc_year', 'fc_month', 'fc_day', 'fc_hour']].astype(str).agg('-'.join, axis=1), format='%Y-%m-%d-%H')\n",
    "train['prediction_time'] = pd.to_datetime(train[['ef_year', 'ef_month', 'ef_day', 'ef_hour']].astype(str).agg('-'.join, axis=1), format='%Y-%m-%d-%H')"
   ]
  },
  {
   "cell_type": "code",
   "execution_count": 9,
   "id": "993302da",
   "metadata": {},
   "outputs": [],
   "source": [
    "# 발표 시각과 예측 시각을 datetime 형식으로 변환\n",
    "test['fc_year'] = test['fc_year'].map(year_mapping)\n",
    "test['ef_year'] = test['ef_year'].map(year_mapping)\n",
    "\n",
    "test['forecast_time'] = pd.to_datetime(test[['fc_year', 'fc_month', 'fc_day', 'fc_hour']].astype(str).agg('-'.join, axis=1), format='%Y-%m-%d-%H')\n",
    "test['prediction_time'] = pd.to_datetime(test[['ef_year', 'ef_month', 'ef_day', 'ef_hour']].astype(str).agg('-'.join, axis=1), format='%Y-%m-%d-%H')"
   ]
  },
  {
   "cell_type": "markdown",
   "id": "81f0b2f3",
   "metadata": {},
   "source": [
    "## 5. 개별 예측 확률 변수 추가"
   ]
  },
  {
   "cell_type": "code",
   "execution_count": 10,
   "id": "33c4c9d4",
   "metadata": {},
   "outputs": [],
   "source": [
    "train['v00_ind'] = 100 - train['v01']\n",
    "train['v01_ind'] = train['v01'] - train['v02']\n",
    "train['v02_ind'] = train['v02'] - train['v03']\n",
    "train['v03_ind'] = train['v03'] - train['v04']\n",
    "train['v04_ind'] = train['v04'] - train['v05']\n",
    "train['v05_ind'] = train['v05'] - train['v06']\n",
    "train['v06_ind'] = train['v06'] - train['v07']\n",
    "train['v07_ind'] = train['v07'] - train['v08']\n",
    "train['v08_ind'] = train['v08'] - train['v09']\n",
    "train['v09_ind'] = train['v09']"
   ]
  },
  {
   "cell_type": "code",
   "execution_count": 11,
   "id": "800bd9c2",
   "metadata": {},
   "outputs": [],
   "source": [
    "test['v00_ind'] = 100 - test['v01']\n",
    "test['v01_ind'] = test['v01'] - test['v02']\n",
    "test['v02_ind'] = test['v02'] - test['v03']\n",
    "test['v03_ind'] = test['v03'] - test['v04']\n",
    "test['v04_ind'] = test['v04'] - test['v05']\n",
    "test['v05_ind'] = test['v05'] - test['v06']\n",
    "test['v06_ind'] = test['v06'] - test['v07']\n",
    "test['v07_ind'] = test['v07'] - test['v08']\n",
    "test['v08_ind'] = test['v08'] - test['v09']\n",
    "test['v09_ind'] = test['v09']"
   ]
  },
  {
   "cell_type": "markdown",
   "id": "5f3e4149",
   "metadata": {},
   "source": [
    "## 6. 개별 예측 확률을 이용한 실강수량 기댓값 변수 추가"
   ]
  },
  {
   "cell_type": "code",
   "execution_count": 12,
   "id": "c1eb2aee",
   "metadata": {},
   "outputs": [],
   "source": [
    "train['v_expect'] = (0.05*train['v00_ind'] + 0.15*train['v01_ind'] + 0.35*train['v02_ind'] + 0.75*train['v03_ind'] \n",
    "    + 1.5*train['v04_ind'] + 3.5*train['v05_ind'] + 7.5*train['v06_ind'] + 15*train['v07_ind']\n",
    "                       + 25*train['v08_ind']+ 30*train['v09_ind'])*0.01"
   ]
  },
  {
   "cell_type": "code",
   "execution_count": 13,
   "id": "865bb3d0",
   "metadata": {},
   "outputs": [],
   "source": [
    "test['v_expect'] = (0.05*test['v00_ind'] + 0.15*test['v01_ind'] + 0.35*test['v02_ind'] + 0.75*test['v03_ind'] \n",
    "    + 1.5*test['v04_ind'] + 3.5*test['v05_ind'] + 7.5*test['v06_ind'] + 15*test['v07_ind']\n",
    "                       + 25*test['v08_ind']+ 30*test['v09_ind'])*0.01"
   ]
  },
  {
   "cell_type": "markdown",
   "id": "0453024c",
   "metadata": {},
   "source": [
    "## 7. basis_index 추가"
   ]
  },
  {
   "cell_type": "markdown",
   "id": "f0ab582c",
   "metadata": {},
   "source": [
    "- pk 생성(추후 시계열 모델 생성 시 정렬에 사용 예정)"
   ]
  },
  {
   "cell_type": "code",
   "execution_count": 14,
   "id": "0b21a05d",
   "metadata": {},
   "outputs": [],
   "source": [
    "train['basis_index'] = train['prediction_time'].astype(str) + \"_\" + train['stn4contest']\n",
    "test['basis_index'] = test['prediction_time'].astype(str) + \"_\" + test['stn4contest']"
   ]
  },
  {
   "cell_type": "markdown",
   "id": "241f26ed",
   "metadata": {},
   "source": [
    "### Data Save"
   ]
  },
  {
   "cell_type": "code",
   "execution_count": 19,
   "id": "057e1c69",
   "metadata": {},
   "outputs": [],
   "source": [
    "train.to_csv('train_pre.csv', index=False, encoding='UTF-8-sig')\n",
    "test.to_csv('test_pre.csv', index=False, encoding='UTF-8-sig')"
   ]
  },
  {
   "cell_type": "code",
   "execution_count": null,
   "id": "0190ee17",
   "metadata": {},
   "outputs": [],
   "source": []
  }
 ],
 "metadata": {
  "kernelspec": {
   "display_name": "Python 3 (ipykernel)",
   "language": "python",
   "name": "python3"
  },
  "language_info": {
   "codemirror_mode": {
    "name": "ipython",
    "version": 3
   },
   "file_extension": ".py",
   "mimetype": "text/x-python",
   "name": "python",
   "nbconvert_exporter": "python",
   "pygments_lexer": "ipython3",
   "version": "3.9.7"
  }
 },
 "nbformat": 4,
 "nbformat_minor": 5
}
